{
  "nbformat": 4,
  "nbformat_minor": 0,
  "metadata": {
    "kernelspec": {
      "display_name": "Python 3",
      "language": "python",
      "name": "python3"
    },
    "language_info": {
      "codemirror_mode": {
        "name": "ipython",
        "version": 3
      },
      "file_extension": ".py",
      "mimetype": "text/x-python",
      "name": "python",
      "nbconvert_exporter": "python",
      "pygments_lexer": "ipython3",
      "version": "3.7.0-final"
    },
    "colab": {
      "name": "proba_estadistica.ipynb",
      "provenance": [],
      "collapsed_sections": [],
      "toc_visible": true
    }
  },
  "cells": [
    {
      "cell_type": "markdown",
      "metadata": {
        "id": "Ea9CPlvttQda"
      },
      "source": [
        "<a href=\"https://www.inove.com.ar\"><img src=\"https://raw.githubusercontent.com/InoveAlumnos/intro_analytics_python/main/images/PA%20Banner.png\" width=\"1000\" align=\"center\"></a>\n",
        "\n",
        "\n",
        "# Probabilidad y estadística\n",
        "\n",
        "Programa creado para mostrar ejemplos prácticos de los visto durante la clase\\\n",
        "v1.2"
      ]
    },
    {
      "cell_type": "code",
      "metadata": {
        "id": "xJN8ND5ctQdc"
      },
      "source": [
        "import os\n",
        "import platform\n",
        "\n",
        "import numpy as np\n",
        "import matplotlib.pyplot as plt\n",
        "import seaborn as sns\n",
        "import pandas as pd"
      ],
      "execution_count": null,
      "outputs": []
    },
    {
      "cell_type": "markdown",
      "metadata": {
        "id": "IPO4G9mAtQdg"
      },
      "source": [
        "### Ensayo de probabilidad de una moneda"
      ]
    },
    {
      "cell_type": "code",
      "metadata": {
        "id": "1jGTvh0qtQdh"
      },
      "source": [
        "tiros = 1000\n",
        "porcentaje_caras = 0.5\n",
        "\n",
        "caracas = 1 * np.ones(int(tiros * porcentaje_caras))\n",
        "cecas = 0 * np.ones(int(tiros * (1-porcentaje_caras)))\n",
        "x_tiros = range(tiros)\n",
        "moneda = np.append(caracas, cecas)\n",
        "np.random.shuffle(moneda)\n",
        "\n",
        "plt.scatter(x_tiros, moneda)\n",
        "plt.show()"
      ],
      "execution_count": null,
      "outputs": []
    },
    {
      "cell_type": "code",
      "metadata": {
        "tags": [],
        "id": "KAOCj3rMtQdr"
      },
      "source": [
        "probabilidad = np.mean(moneda)\n",
        "print(\"La probabilidad de sacar cara es:\", probabilidad)\n",
        "\n",
        "plt.hist(moneda)\n",
        "plt.show()"
      ],
      "execution_count": null,
      "outputs": []
    },
    {
      "cell_type": "markdown",
      "metadata": {
        "id": "NcvHnlfOtQdu"
      },
      "source": [
        "### Análisis de la media"
      ]
    },
    {
      "cell_type": "code",
      "metadata": {
        "tags": [],
        "id": "KBNwt5OPtQdv"
      },
      "source": [
        "y = np.linspace(0, 100, 100)\n",
        "print(\"Promedio:\", np.mean(y))\n",
        "print(\"Mediana:\", np.median(y))\n",
        "print(\"Desvio:\", np.std(y))"
      ],
      "execution_count": null,
      "outputs": []
    },
    {
      "cell_type": "code",
      "metadata": {
        "tags": [],
        "id": "kp_J95dmtQdy"
      },
      "source": [
        "print(\"Distribución uniforme:\")\n",
        "plt.hist(y)\n",
        "plt.show()"
      ],
      "execution_count": null,
      "outputs": []
    },
    {
      "cell_type": "code",
      "metadata": {
        "tags": [],
        "id": "QjWj3xYRtQd5"
      },
      "source": [
        "x = np.linspace(0, 100, 100)\n",
        "ruido = np.array(1000)\n",
        "y2 = np.append(x, ruido)\n",
        "print(\"Promedio:\", np.mean(y2))\n",
        "print(\"Mediana:\", np.median(y2))\n",
        "print(\"Desvio:\", np.std(y2))\n",
        "plt.hist(y2)\n",
        "plt.show()"
      ],
      "execution_count": null,
      "outputs": []
    },
    {
      "cell_type": "markdown",
      "metadata": {
        "id": "fQsUYcNBtQd8"
      },
      "source": [
        "Se puede observar que al agregar un valor muy lejos del promedio de todos los otros valores (un valor muy lejano a 100) el promedio se fe fuertemente afectado y el desvió tambíen. Estos valores muy alejados del resto de los datos se los conoce como \"outliers\" (valores atípicos o ruido) los cuales debemos indentificarlos y extraerlos.\\\n",
        "Por otro lado, la \"mediana\" tiene mayor resilencia (se ve menos afetacada) por el ruido o valores atípicos."
      ]
    },
    {
      "cell_type": "markdown",
      "metadata": {
        "id": "x8SDRXq4tQd9"
      },
      "source": [
        "### Ejemplo de la frecuencia del colectivo"
      ]
    },
    {
      "cell_type": "code",
      "metadata": {
        "id": "8S4rs1v0tQd-"
      },
      "source": [
        "def get_bus_data(file_name):\n",
        "    \n",
        "    df = pd.read_csv(file_name)\n",
        "    df['Lunes'] = pd.to_datetime(df['Lunes'])\n",
        "    df['Martes'] = pd.to_datetime(df['Martes'])\n",
        "    df['Miercoles'] = pd.to_datetime(df['Miercoles'])\n",
        "    df['Jueves'] = pd.to_datetime(df['Jueves'])\n",
        "    df['Viernes'] = pd.to_datetime(df['Viernes'])\n",
        "    df['Sabado'] = pd.to_datetime(df['Sabado'])\n",
        "    \n",
        "    lunes = df['Lunes'].diff()[1:].dt.seconds / 60\n",
        "    martes = df['Martes'].diff()[1:].dt.seconds / 60\n",
        "    miercoles = df['Miercoles'].diff()[1:].dt.seconds / 60\n",
        "    jueves = df['Jueves'].diff()[1:].dt.seconds / 60\n",
        "    viernes = df['Viernes'].diff()[1:].dt.seconds / 60\n",
        "    sabado = df['Sabado'].diff()[1:].dt.seconds / 60\n",
        "    \n",
        "    return lunes, martes, miercoles, jueves, viernes, sabado"
      ],
      "execution_count": null,
      "outputs": []
    },
    {
      "cell_type": "code",
      "metadata": {
        "tags": [],
        "id": "j9x_YEdTtQeC"
      },
      "source": [
        "if os.access('frecuencia_colectivo.csv', os.F_OK) is False:\n",
        "    if platform.system() == 'Windows':\n",
        "        !curl https://raw.githubusercontent.com/InoveAlumnos/into_analytics_python/main/frecuencia_colectivo.csv > frecuencia_colectivo.csv\n",
        "    else:\n",
        "        !wget frecuencia_colectivo.csv https://raw.githubusercontent.com/InoveAlumnos/into_analytics_python/main/frecuencia_colectivo.csv"
      ],
      "execution_count": null,
      "outputs": []
    },
    {
      "cell_type": "code",
      "metadata": {
        "tags": [],
        "id": "1E4AICKjtQeE"
      },
      "source": [
        "lunes, martes, miercoles, jueves, viernes, sabado = get_bus_data('frecuencia_colectivo.csv')\n",
        "print(\"Datos recolectados los lunes:\", len(lunes))"
      ],
      "execution_count": null,
      "outputs": []
    },
    {
      "cell_type": "markdown",
      "metadata": {
        "id": "iHhgN_catQeK"
      },
      "source": [
        "#### Frecuencia Lunes-Viernes"
      ]
    },
    {
      "cell_type": "code",
      "metadata": {
        "tags": [],
        "id": "vcyM1c0FtQeL"
      },
      "source": [
        "frecuencia = np.append(lunes, martes)\n",
        "frecuencia = np.append(frecuencia, miercoles)\n",
        "frecuencia = np.append(frecuencia, jueves)\n",
        "frecuencia = np.append(frecuencia, viernes)\n",
        "\n",
        "fig = plt.figure(figsize=(16,9))\n",
        "ax = fig.add_subplot()\n",
        "    \n",
        "sns.set_style(\"white\")\n",
        "        \n",
        "ax = sns.histplot(x=frecuencia, kde=True, color=\"darkBlue\", ax=ax)\n",
        "ax.set_title(\"Frecuencia Lunes-Viernes\", fontsize=16)\n",
        "ax.set_ylabel(\"Cantidad\", fontsize=12)\n",
        "ax.set_xlabel('Frecuencia')\n",
        "\n",
        "print(\"Datos ensayados:\", len(frecuencia))\n",
        "print(\"Promedio:\", np.mean(frecuencia))\n",
        "print(\"Mediana:\", np.median(frecuencia))\n",
        "print(\"Desvio:\", np.std(frecuencia))\n",
        "plt.show()"
      ],
      "execution_count": null,
      "outputs": []
    },
    {
      "cell_type": "code",
      "metadata": {
        "tags": [],
        "id": "cEfaJJH0tQeV"
      },
      "source": [
        "fig = plt.figure(figsize=(16,9))\n",
        "ax = fig.add_subplot()\n",
        "ax = sns.boxplot(frecuencia, ax=ax)\n",
        "ax.set_title(\"Grafíco boxplot: Frecuencia Lunes-Viernes\", fontsize=16)\n",
        "ax.set_xlabel('Frecuencia')\n",
        "\n",
        "print(\"Datos ensayados:\", len(frecuencia))\n",
        "print(\"Promedio:\", np.mean(frecuencia))\n",
        "print(\"Mediana:\", np.median(frecuencia))\n",
        "print(\"Desvio:\", np.std(frecuencia))\n",
        "plt.show()"
      ],
      "execution_count": null,
      "outputs": []
    },
    {
      "cell_type": "markdown",
      "metadata": {
        "id": "deXTd1RftQea"
      },
      "source": [
        "#### Frecuencia Lunes-Sábados"
      ]
    },
    {
      "cell_type": "code",
      "metadata": {
        "tags": [],
        "id": "1AKFT1PptQeb"
      },
      "source": [
        "frecuencia2 = np.append(frecuencia, sabado)\n",
        "\n",
        "fig = plt.figure(figsize=(16,9))\n",
        "ax = fig.add_subplot()\n",
        "    \n",
        "sns.set_style(\"white\")\n",
        "        \n",
        "ax = sns.histplot(x=frecuencia2, kde=True, color=\"red\", ax=ax)\n",
        "ax.set_title(\"Frecuencia Lunes-Sabados\", fontsize=16)\n",
        "ax.set_ylabel(\"Cantidad\", fontsize=12)\n",
        "ax.set_xlabel('Frecuencia')\n",
        "\n",
        "print(\"Datos ensayados:\", len(frecuencia2))\n",
        "print(\"Promedio:\", np.mean(frecuencia2))\n",
        "print(\"Mediana:\", np.median(frecuencia2))\n",
        "print(\"Desvio:\", np.std(frecuencia2))\n",
        "plt.show()"
      ],
      "execution_count": null,
      "outputs": []
    },
    {
      "cell_type": "markdown",
      "metadata": {
        "id": "TlOOu_0htQee"
      },
      "source": [
        "##### Otra forma de verlo"
      ]
    },
    {
      "cell_type": "code",
      "metadata": {
        "tags": [],
        "id": "GVVU5qb8tQef"
      },
      "source": [
        "fig = plt.figure(figsize=(16,9))\n",
        "ax = fig.add_subplot()\n",
        "ax = sns.boxplot(frecuencia2, ax=ax)\n",
        "ax.set_title(\"Grafíco boxplot: Frecuencia Lunes-Sabados\", fontsize=16)\n",
        "ax.set_xlabel('Frecuencia')\n",
        "\n",
        "print(\"Datos ensayados:\", len(frecuencia2))\n",
        "print(\"Promedio:\", np.mean(frecuencia2))\n",
        "print(\"Mediana:\", np.median(frecuencia2))\n",
        "print(\"Desvio:\", np.std(frecuencia2))\n",
        "plt.show()"
      ],
      "execution_count": null,
      "outputs": []
    },
    {
      "cell_type": "markdown",
      "metadata": {
        "id": "Fq5bXui3tQeh"
      },
      "source": [
        "#### Frecuencia los Sábados"
      ]
    },
    {
      "cell_type": "code",
      "metadata": {
        "tags": [],
        "id": "9npVanEVtQei"
      },
      "source": [
        "fig = plt.figure(figsize=(16,9))\n",
        "ax = fig.add_subplot()\n",
        "    \n",
        "sns.set_style(\"white\")\n",
        "\n",
        "ax = sns.histplot(x=sabado, kde=True, color=\"darkCyan\", ax=ax)\n",
        "ax.set_title(\"Frecuencia Sábados\", fontsize=16)\n",
        "ax.set_ylabel(\"Cantidad\", fontsize=12)\n",
        "ax.set_xlabel('Frecuencia')\n",
        "\n",
        "print(\"Datos ensayados:\", len(sabado))\n",
        "print(\"Promedio:\", np.mean(sabado))\n",
        "print(\"Mediana:\", np.median(sabado))\n",
        "print(\"Desvio:\", np.std(sabado))\n",
        "plt.show()"
      ],
      "execution_count": null,
      "outputs": []
    }
  ]
}